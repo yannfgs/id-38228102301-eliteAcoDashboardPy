{
 "cells": [
  {
   "cell_type": "code",
   "execution_count": null,
   "metadata": {},
   "outputs": [],
   "source": [
    "import pandas as pd\n",
    "import numpy as np\n",
    "import matplotlib.pylot as plt\n",
    "\n",
    "# Criando um DataFrame simples\n",
    "df = pd.DataFrame({\n",
    "    'A': np.random.rand(10),\n",
    "    'B'\n",
    "})\n",
    "\n",
    "# Plotando os dados\n",
    "df.plot(kind='bar')\n",
    "plt.title('Gráfico de Barras Aleatórias')\n",
    "plt.show()"
   ]
  }
 ],
 "metadata": {
  "language_info": {
   "name": "python"
  }
 },
 "nbformat": 4,
 "nbformat_minor": 2
}
