{
 "cells": [
  {
   "cell_type": "code",
   "execution_count": null,
   "metadata": {},
   "outputs": [],
   "source": [
    "import pandas as pd\n",
    "import numpy as np\n",
    "import matplotlib.pyplot as plt\n",
    "\n",
    "# Dados de exemplo\n",
    "df = pd.DataFrame({\n",
    "    'Meses': ['Janeiro', 'Fevereiro', 'Março', 'Abril'],\n",
    "    'Vendas': [200, 220, 250, 275]\n",
    "})\n",
    "\n",
    "# Gráfico de barra simples\n",
    "plt.bar(df['Meses'], df['Vendas'])\n",
    "plt.title('Vendas por Mês')\n",
    "plt.ylabel('Vendas')\n",
    "plt.show()"
   ]
  }
 ],
 "metadata": {
  "kernelspec": {
   "display_name": "Python 3",
   "language": "python",
   "name": "python3"
  },
  "language_info": {
   "name": "python",
   "version": "3.11.6"
  }
 },
 "nbformat": 4,
 "nbformat_minor": 2
}
