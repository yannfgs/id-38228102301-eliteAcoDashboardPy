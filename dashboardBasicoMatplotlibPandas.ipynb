{
 "cells": [
  {
   "cell_type": "code",
   "execution_count": null,
   "metadata": {},
   "outputs": [],
   "source": [
    "import pandas as pd\n",
    "import numpy as np\n",
    "import matplotlib.pyplot as plt\n",
    "\n",
    "# Dados de exemplo\n",
    "df = pd.DataFrame({\n",
    "    'Meses': ['Janeiro', 'Fevereiro', 'Março', 'Abril'],\n",
    "    'Vendas': [200, 220, 250, 275]\n",
    "})\n",
    "\n",
    "# Gráfico de barra simples\n",
    "plt.bar(df['Meses'], df['Vendas'])\n",
    "plt.title('Vendas por Mês')\n",
    "plt.ylabel('Vendas')\n",
    "plt.show()"
   ]
  }
 ],
 "metadata": {
  "language_info": {
   "name": "python"
  }
 },
 "nbformat": 4,
 "nbformat_minor": 2
}
